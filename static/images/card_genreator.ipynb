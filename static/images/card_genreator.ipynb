{
 "cells": [
  {
   "cell_type": "code",
   "execution_count": 56,
   "metadata": {},
   "outputs": [],
   "source": [
    "from PIL import Image, ImageDraw, ImageFont\n",
    "from barcode import EAN13, Code128\n",
    "from barcode.writer import ImageWriter\n",
    "\n",
    "\n",
    "card_template_navyblue = Image.open(\"cardmail.jpg\")\n",
    "\n",
    "profile_pic = Image.open(\"profile.jpg\").resize((212,252), Image.ANTIALIAS)\n",
    "\n",
    "card_template_navyblue.paste(profile_pic,(103,998))\n",
    "draw = ImageDraw.Draw(card_template_navyblue)\n",
    "# ID\n",
    "id = \"12322\"\n",
    "font = ImageFont.truetype(\"mvboli.ttf\", size=21)\n",
    "draw.text((40, 249), id, font=font, fill='white')\n",
    "\n",
    "font = ImageFont.truetype(\"mvboli.ttf\", size=25)\n",
    "# NAME\n",
    "draw.text((325, 1010), \"Obaidul Qader\", font=font, fill='black')\n",
    "# CONTACT NO\n",
    "draw.text((325, 1040), \"01746659494\", font=font, fill='black')\n",
    "# ADDRESS\n",
    "draw.text((325, 1070), \"Shingerkach, Bishwanath\", font=font, fill='black')\n",
    "# GUARDIAN NAME\n",
    "draw.text((325, 1100), \"His Father Name\", font=font, fill='black')\n",
    "# GUARDIAN RELATIONSHIP\n",
    "draw.text((325, 1130), \"Father\", font=font, fill='black')\n",
    "\n",
    "\n",
    "bar_code = Code128(id, writer=ImageWriter())\n",
    "bar_code.save(\"bar_code1\")\n",
    "barcode_pic = Image.open(\"bar_code1.png\").resize((270,100), Image.ANTIALIAS)\n",
    "\n",
    "card_template_navyblue.paste(barcode_pic, (55,400))\n",
    "\n",
    "# card_template_navyblue\n",
    "# bar_code\n",
    "# card_template_navyblue.save(\"shouldbeprinted.jpg\")\n"
   ]
  },
  {
   "cell_type": "code",
   "execution_count": null,
   "metadata": {},
   "outputs": [],
   "source": []
  },
  {
   "cell_type": "code",
   "execution_count": null,
   "metadata": {},
   "outputs": [],
   "source": []
  },
  {
   "cell_type": "code",
   "execution_count": 10,
   "metadata": {},
   "outputs": [
    {
     "ename": "TypeError",
     "evalue": "'builtin_function_or_method' object is not iterable",
     "output_type": "error",
     "traceback": [
      "\u001b[1;31m---------------------------------------------------------------------------\u001b[0m",
      "\u001b[1;31mTypeError\u001b[0m                                 Traceback (most recent call last)",
      "\u001b[1;32md:\\web\\projects\\hospital-project\\static\\images\\card_genreator.ipynb Cell 4'\u001b[0m in \u001b[0;36m<cell line: 5>\u001b[1;34m()\u001b[0m\n\u001b[0;32m      <a href='vscode-notebook-cell:/d%3A/web/projects/hospital-project/static/images/card_genreator.ipynb#ch0000003?line=0'>1</a>\u001b[0m \u001b[39mfrom\u001b[39;00m \u001b[39mpathlib\u001b[39;00m \u001b[39mimport\u001b[39;00m Path\n\u001b[0;32m      <a href='vscode-notebook-cell:/d%3A/web/projects/hospital-project/static/images/card_genreator.ipynb#ch0000003?line=2'>3</a>\u001b[0m base_dir \u001b[39m=\u001b[39m Path\u001b[39m.\u001b[39mcwd()\u001b[39m.\u001b[39mparent\u001b[39m.\u001b[39mparent \u001b[39m/\u001b[39m \u001b[39m'\u001b[39m\u001b[39mmedia\u001b[39m\u001b[39m'\u001b[39m \u001b[39m/\u001b[39m \u001b[39m'\u001b[39m\u001b[39mbarcodes\u001b[39m\u001b[39m'\u001b[39m \u001b[39m/\u001b[39m \u001b[39m'\u001b[39m\u001b[39mmyfile\u001b[39m\u001b[39m'\u001b[39m\n\u001b[1;32m----> <a href='vscode-notebook-cell:/d%3A/web/projects/hospital-project/static/images/card_genreator.ipynb#ch0000003?line=4'>5</a>\u001b[0m bar_code \u001b[39m=\u001b[39m Code128(\u001b[39mid\u001b[39;49m, writer\u001b[39m=\u001b[39;49mImageWriter())\n\u001b[0;32m      <a href='vscode-notebook-cell:/d%3A/web/projects/hospital-project/static/images/card_genreator.ipynb#ch0000003?line=5'>6</a>\u001b[0m \u001b[39m# filename = bar_code.save(base_dir, \"PNG\")\u001b[39;00m\n\u001b[0;32m      <a href='vscode-notebook-cell:/d%3A/web/projects/hospital-project/static/images/card_genreator.ipynb#ch0000003?line=6'>7</a>\u001b[0m \u001b[39m# barcode_pic = Image.open(\"bar_code1.png\").resize((270,100), Image.ANTIALIAS)\u001b[39;00m\n\u001b[0;32m      <a href='vscode-notebook-cell:/d%3A/web/projects/hospital-project/static/images/card_genreator.ipynb#ch0000003?line=8'>9</a>\u001b[0m bar_code\u001b[39m.\u001b[39msave(base_dir, options\u001b[39m=\u001b[39m{\u001b[39m\"\u001b[39m\u001b[39mbackground\u001b[39m\u001b[39m\"\u001b[39m: \u001b[39m\"\u001b[39m\u001b[39mgray\u001b[39m\u001b[39m\"\u001b[39m, \u001b[39m\"\u001b[39m\u001b[39mtext_distance\u001b[39m\u001b[39m\"\u001b[39m: \u001b[39m2\u001b[39m, \u001b[39m\"\u001b[39m\u001b[39mfont_size\u001b[39m\u001b[39m\"\u001b[39m: \u001b[39m0\u001b[39m, \u001b[39m\"\u001b[39m\u001b[39mmodule_height\u001b[39m\u001b[39m\"\u001b[39m: \u001b[39m10\u001b[39m})\n",
      "File \u001b[1;32m~\\AppData\\Local\\Programs\\Python\\Python310\\lib\\site-packages\\barcode\\codex.py:143\u001b[0m, in \u001b[0;36mCode128.__init__\u001b[1;34m(self, code, writer)\u001b[0m\n\u001b[0;32m    <a href='file:///c%3A/Users/splen/AppData/Local/Programs/Python/Python310/lib/site-packages/barcode/codex.py?line=140'>141</a>\u001b[0m \u001b[39mself\u001b[39m\u001b[39m.\u001b[39m_charset \u001b[39m=\u001b[39m \u001b[39m\"\u001b[39m\u001b[39mB\u001b[39m\u001b[39m\"\u001b[39m\n\u001b[0;32m    <a href='file:///c%3A/Users/splen/AppData/Local/Programs/Python/Python310/lib/site-packages/barcode/codex.py?line=141'>142</a>\u001b[0m \u001b[39mself\u001b[39m\u001b[39m.\u001b[39m_buffer \u001b[39m=\u001b[39m \u001b[39m\"\u001b[39m\u001b[39m\"\u001b[39m\n\u001b[1;32m--> <a href='file:///c%3A/Users/splen/AppData/Local/Programs/Python/Python310/lib/site-packages/barcode/codex.py?line=142'>143</a>\u001b[0m check_code(\u001b[39mself\u001b[39;49m\u001b[39m.\u001b[39;49mcode, \u001b[39mself\u001b[39;49m\u001b[39m.\u001b[39;49mname, code128\u001b[39m.\u001b[39;49mALL)\n",
      "File \u001b[1;32m~\\AppData\\Local\\Programs\\Python\\Python310\\lib\\site-packages\\barcode\\codex.py:21\u001b[0m, in \u001b[0;36mcheck_code\u001b[1;34m(code, name, allowed)\u001b[0m\n\u001b[0;32m     <a href='file:///c%3A/Users/splen/AppData/Local/Programs/Python/Python310/lib/site-packages/barcode/codex.py?line=18'>19</a>\u001b[0m \u001b[39mdef\u001b[39;00m \u001b[39mcheck_code\u001b[39m(code, name, allowed):\n\u001b[0;32m     <a href='file:///c%3A/Users/splen/AppData/Local/Programs/Python/Python310/lib/site-packages/barcode/codex.py?line=19'>20</a>\u001b[0m     wrong \u001b[39m=\u001b[39m []\n\u001b[1;32m---> <a href='file:///c%3A/Users/splen/AppData/Local/Programs/Python/Python310/lib/site-packages/barcode/codex.py?line=20'>21</a>\u001b[0m     \u001b[39mfor\u001b[39;00m char \u001b[39min\u001b[39;00m code:\n\u001b[0;32m     <a href='file:///c%3A/Users/splen/AppData/Local/Programs/Python/Python310/lib/site-packages/barcode/codex.py?line=21'>22</a>\u001b[0m         \u001b[39mif\u001b[39;00m char \u001b[39mnot\u001b[39;00m \u001b[39min\u001b[39;00m allowed:\n\u001b[0;32m     <a href='file:///c%3A/Users/splen/AppData/Local/Programs/Python/Python310/lib/site-packages/barcode/codex.py?line=22'>23</a>\u001b[0m             wrong\u001b[39m.\u001b[39mappend(char)\n",
      "\u001b[1;31mTypeError\u001b[0m: 'builtin_function_or_method' object is not iterable"
     ]
    }
   ],
   "source": [
    "from pathlib import Path\n",
    "\n",
    "base_dir = Path.cwd().parent.parent / 'media' / 'barcodes' / 'myfile'\n",
    "\n",
    "bar_code = Code128(id, writer=ImageWriter())\n",
    "# filename = bar_code.save(base_dir, \"PNG\")\n",
    "# barcode_pic = Image.open(\"bar_code1.png\").resize((270,100), Image.ANTIALIAS)\n",
    "\n",
    "bar_code.save(base_dir, options={\"text_distance\": 2, \"font_size\": 0, \"module_height\": 10})"
   ]
  },
  {
   "cell_type": "code",
   "execution_count": 2,
   "metadata": {},
   "outputs": [
    {
     "ename": "OSError",
     "evalue": "Cannot open resource \"mybarcode.png\"",
     "output_type": "error",
     "traceback": [
      "\u001b[1;31m---------------------------------------------------------------------------\u001b[0m",
      "\u001b[1;31mFileNotFoundError\u001b[0m                         Traceback (most recent call last)",
      "File \u001b[1;32m~\\AppData\\Local\\Programs\\Python\\Python310\\lib\\site-packages\\reportlab\\lib\\utils.py:537\u001b[0m, in \u001b[0;36mopen_for_read.<locals>.open_for_read\u001b[1;34m(name, mode)\u001b[0m\n\u001b[0;32m    <a href='file:///c%3A/Users/splen/AppData/Local/Programs/Python/Python310/lib/site-packages/reportlab/lib/utils.py?line=535'>536</a>\u001b[0m \u001b[39mtry\u001b[39;00m:\n\u001b[1;32m--> <a href='file:///c%3A/Users/splen/AppData/Local/Programs/Python/Python310/lib/site-packages/reportlab/lib/utils.py?line=536'>537</a>\u001b[0m     \u001b[39mreturn\u001b[39;00m open_for_read_by_name(name,mode)\n\u001b[0;32m    <a href='file:///c%3A/Users/splen/AppData/Local/Programs/Python/Python310/lib/site-packages/reportlab/lib/utils.py?line=537'>538</a>\u001b[0m \u001b[39mexcept\u001b[39;00m:\n",
      "File \u001b[1;32m~\\AppData\\Local\\Programs\\Python\\Python310\\lib\\site-packages\\reportlab\\lib\\utils.py:477\u001b[0m, in \u001b[0;36mopen_for_read_by_name\u001b[1;34m(name, mode)\u001b[0m\n\u001b[0;32m    <a href='file:///c%3A/Users/splen/AppData/Local/Programs/Python/Python310/lib/site-packages/reportlab/lib/utils.py?line=475'>476</a>\u001b[0m \u001b[39mtry\u001b[39;00m:\n\u001b[1;32m--> <a href='file:///c%3A/Users/splen/AppData/Local/Programs/Python/Python310/lib/site-packages/reportlab/lib/utils.py?line=476'>477</a>\u001b[0m     \u001b[39mreturn\u001b[39;00m \u001b[39mopen\u001b[39;49m(name,mode)\n\u001b[0;32m    <a href='file:///c%3A/Users/splen/AppData/Local/Programs/Python/Python310/lib/site-packages/reportlab/lib/utils.py?line=477'>478</a>\u001b[0m \u001b[39mexcept\u001b[39;00m \u001b[39mIOError\u001b[39;00m:\n",
      "\u001b[1;31mFileNotFoundError\u001b[0m: [Errno 2] No such file or directory: 'mybarcode.png'",
      "\nDuring handling of the above exception, another exception occurred:\n",
      "\u001b[1;31mValueError\u001b[0m                                Traceback (most recent call last)",
      "File \u001b[1;32m~\\AppData\\Local\\Programs\\Python\\Python310\\lib\\site-packages\\reportlab\\lib\\utils.py:544\u001b[0m, in \u001b[0;36mopen_for_read.<locals>.open_for_read\u001b[1;34m(name, mode)\u001b[0m\n\u001b[0;32m    <a href='file:///c%3A/Users/splen/AppData/Local/Programs/Python/Python310/lib/site-packages/reportlab/lib/utils.py?line=542'>543</a>\u001b[0m             \u001b[39mraise\u001b[39;00m \u001b[39mValueError\u001b[39;00m(\u001b[39m'\u001b[39m\u001b[39mAttempted untrusted host access\u001b[39m\u001b[39m'\u001b[39m)\n\u001b[1;32m--> <a href='file:///c%3A/Users/splen/AppData/Local/Programs/Python/Python310/lib/site-packages/reportlab/lib/utils.py?line=543'>544</a>\u001b[0m     \u001b[39mreturn\u001b[39;00m BytesIO((datareader \u001b[39mif\u001b[39;49;00m name[:\u001b[39m5\u001b[39;49m]\u001b[39m.\u001b[39;49mlower()\u001b[39m==\u001b[39;49m\u001b[39m'\u001b[39;49m\u001b[39mdata:\u001b[39;49m\u001b[39m'\u001b[39;49m \u001b[39melse\u001b[39;49;00m rlUrlRead)(name))\n\u001b[0;32m    <a href='file:///c%3A/Users/splen/AppData/Local/Programs/Python/Python310/lib/site-packages/reportlab/lib/utils.py?line=544'>545</a>\u001b[0m \u001b[39mexcept\u001b[39;00m:\n",
      "File \u001b[1;32m~\\AppData\\Local\\Programs\\Python\\Python310\\lib\\site-packages\\reportlab\\lib\\utils.py:490\u001b[0m, in \u001b[0;36mrlUrlRead\u001b[1;34m(name)\u001b[0m\n\u001b[0;32m    <a href='file:///c%3A/Users/splen/AppData/Local/Programs/Python/Python310/lib/site-packages/reportlab/lib/utils.py?line=488'>489</a>\u001b[0m \u001b[39mdef\u001b[39;00m \u001b[39mrlUrlRead\u001b[39m(name):\n\u001b[1;32m--> <a href='file:///c%3A/Users/splen/AppData/Local/Programs/Python/Python310/lib/site-packages/reportlab/lib/utils.py?line=489'>490</a>\u001b[0m     \u001b[39mreturn\u001b[39;00m urlopen(name)\u001b[39m.\u001b[39mread()\n",
      "File \u001b[1;32m~\\AppData\\Local\\Programs\\Python\\Python310\\lib\\urllib\\request.py:216\u001b[0m, in \u001b[0;36murlopen\u001b[1;34m(url, data, timeout, cafile, capath, cadefault, context)\u001b[0m\n\u001b[0;32m    <a href='file:///c%3A/Users/splen/AppData/Local/Programs/Python/Python310/lib/urllib/request.py?line=214'>215</a>\u001b[0m     opener \u001b[39m=\u001b[39m _opener\n\u001b[1;32m--> <a href='file:///c%3A/Users/splen/AppData/Local/Programs/Python/Python310/lib/urllib/request.py?line=215'>216</a>\u001b[0m \u001b[39mreturn\u001b[39;00m opener\u001b[39m.\u001b[39;49mopen(url, data, timeout)\n",
      "File \u001b[1;32m~\\AppData\\Local\\Programs\\Python\\Python310\\lib\\urllib\\request.py:503\u001b[0m, in \u001b[0;36mOpenerDirector.open\u001b[1;34m(self, fullurl, data, timeout)\u001b[0m\n\u001b[0;32m    <a href='file:///c%3A/Users/splen/AppData/Local/Programs/Python/Python310/lib/urllib/request.py?line=501'>502</a>\u001b[0m \u001b[39mif\u001b[39;00m \u001b[39misinstance\u001b[39m(fullurl, \u001b[39mstr\u001b[39m):\n\u001b[1;32m--> <a href='file:///c%3A/Users/splen/AppData/Local/Programs/Python/Python310/lib/urllib/request.py?line=502'>503</a>\u001b[0m     req \u001b[39m=\u001b[39m Request(fullurl, data)\n\u001b[0;32m    <a href='file:///c%3A/Users/splen/AppData/Local/Programs/Python/Python310/lib/urllib/request.py?line=503'>504</a>\u001b[0m \u001b[39melse\u001b[39;00m:\n",
      "File \u001b[1;32m~\\AppData\\Local\\Programs\\Python\\Python310\\lib\\urllib\\request.py:322\u001b[0m, in \u001b[0;36mRequest.__init__\u001b[1;34m(self, url, data, headers, origin_req_host, unverifiable, method)\u001b[0m\n\u001b[0;32m    <a href='file:///c%3A/Users/splen/AppData/Local/Programs/Python/Python310/lib/urllib/request.py?line=318'>319</a>\u001b[0m \u001b[39mdef\u001b[39;00m \u001b[39m__init__\u001b[39m(\u001b[39mself\u001b[39m, url, data\u001b[39m=\u001b[39m\u001b[39mNone\u001b[39;00m, headers\u001b[39m=\u001b[39m{},\n\u001b[0;32m    <a href='file:///c%3A/Users/splen/AppData/Local/Programs/Python/Python310/lib/urllib/request.py?line=319'>320</a>\u001b[0m              origin_req_host\u001b[39m=\u001b[39m\u001b[39mNone\u001b[39;00m, unverifiable\u001b[39m=\u001b[39m\u001b[39mFalse\u001b[39;00m,\n\u001b[0;32m    <a href='file:///c%3A/Users/splen/AppData/Local/Programs/Python/Python310/lib/urllib/request.py?line=320'>321</a>\u001b[0m              method\u001b[39m=\u001b[39m\u001b[39mNone\u001b[39;00m):\n\u001b[1;32m--> <a href='file:///c%3A/Users/splen/AppData/Local/Programs/Python/Python310/lib/urllib/request.py?line=321'>322</a>\u001b[0m     \u001b[39mself\u001b[39m\u001b[39m.\u001b[39mfull_url \u001b[39m=\u001b[39m url\n\u001b[0;32m    <a href='file:///c%3A/Users/splen/AppData/Local/Programs/Python/Python310/lib/urllib/request.py?line=322'>323</a>\u001b[0m     \u001b[39mself\u001b[39m\u001b[39m.\u001b[39mheaders \u001b[39m=\u001b[39m {}\n",
      "File \u001b[1;32m~\\AppData\\Local\\Programs\\Python\\Python310\\lib\\urllib\\request.py:348\u001b[0m, in \u001b[0;36mRequest.full_url\u001b[1;34m(self, url)\u001b[0m\n\u001b[0;32m    <a href='file:///c%3A/Users/splen/AppData/Local/Programs/Python/Python310/lib/urllib/request.py?line=346'>347</a>\u001b[0m \u001b[39mself\u001b[39m\u001b[39m.\u001b[39m_full_url, \u001b[39mself\u001b[39m\u001b[39m.\u001b[39mfragment \u001b[39m=\u001b[39m _splittag(\u001b[39mself\u001b[39m\u001b[39m.\u001b[39m_full_url)\n\u001b[1;32m--> <a href='file:///c%3A/Users/splen/AppData/Local/Programs/Python/Python310/lib/urllib/request.py?line=347'>348</a>\u001b[0m \u001b[39mself\u001b[39;49m\u001b[39m.\u001b[39;49m_parse()\n",
      "File \u001b[1;32m~\\AppData\\Local\\Programs\\Python\\Python310\\lib\\urllib\\request.py:377\u001b[0m, in \u001b[0;36mRequest._parse\u001b[1;34m(self)\u001b[0m\n\u001b[0;32m    <a href='file:///c%3A/Users/splen/AppData/Local/Programs/Python/Python310/lib/urllib/request.py?line=375'>376</a>\u001b[0m \u001b[39mif\u001b[39;00m \u001b[39mself\u001b[39m\u001b[39m.\u001b[39mtype \u001b[39mis\u001b[39;00m \u001b[39mNone\u001b[39;00m:\n\u001b[1;32m--> <a href='file:///c%3A/Users/splen/AppData/Local/Programs/Python/Python310/lib/urllib/request.py?line=376'>377</a>\u001b[0m     \u001b[39mraise\u001b[39;00m \u001b[39mValueError\u001b[39;00m(\u001b[39m\"\u001b[39m\u001b[39munknown url type: \u001b[39m\u001b[39m%r\u001b[39;00m\u001b[39m\"\u001b[39m \u001b[39m%\u001b[39m \u001b[39mself\u001b[39m\u001b[39m.\u001b[39mfull_url)\n\u001b[0;32m    <a href='file:///c%3A/Users/splen/AppData/Local/Programs/Python/Python310/lib/urllib/request.py?line=377'>378</a>\u001b[0m \u001b[39mself\u001b[39m\u001b[39m.\u001b[39mhost, \u001b[39mself\u001b[39m\u001b[39m.\u001b[39mselector \u001b[39m=\u001b[39m _splithost(rest)\n",
      "\u001b[1;31mValueError\u001b[0m: unknown url type: 'mybarcode.png'",
      "\nDuring handling of the above exception, another exception occurred:\n",
      "\u001b[1;31mOSError\u001b[0m                                   Traceback (most recent call last)",
      "\u001b[1;32md:\\web\\projects\\hospital-project\\static\\images\\card_genreator.ipynb Cell 5'\u001b[0m in \u001b[0;36m<cell line: 13>\u001b[1;34m()\u001b[0m\n\u001b[0;32m     <a href='vscode-notebook-cell:/d%3A/web/projects/hospital-project/static/images/card_genreator.ipynb#ch0000004?line=9'>10</a>\u001b[0m packet \u001b[39m=\u001b[39m io\u001b[39m.\u001b[39mBytesIO()\n\u001b[0;32m     <a href='vscode-notebook-cell:/d%3A/web/projects/hospital-project/static/images/card_genreator.ipynb#ch0000004?line=10'>11</a>\u001b[0m mycanvas \u001b[39m=\u001b[39m canvas\u001b[39m.\u001b[39mCanvas(packet, pagesize\u001b[39m=\u001b[39mletter)\n\u001b[1;32m---> <a href='vscode-notebook-cell:/d%3A/web/projects/hospital-project/static/images/card_genreator.ipynb#ch0000004?line=12'>13</a>\u001b[0m mycanvas\u001b[39m.\u001b[39;49mdrawImage(\u001b[39m\"\u001b[39;49m\u001b[39mmybarcode.png\u001b[39;49m\u001b[39m\"\u001b[39;49m,\u001b[39m35\u001b[39;49m, \u001b[39m210\u001b[39;49m, width\u001b[39m=\u001b[39;49m\u001b[39m100\u001b[39;49m, height\u001b[39m=\u001b[39;49m\u001b[39m30\u001b[39;49m)\n\u001b[0;32m     <a href='vscode-notebook-cell:/d%3A/web/projects/hospital-project/static/images/card_genreator.ipynb#ch0000004?line=15'>16</a>\u001b[0m mycanvas\u001b[39m.\u001b[39mdrawImage(\u001b[39m\"\u001b[39m\u001b[39mprofile.jpg\u001b[39m\u001b[39m\"\u001b[39m,\u001b[39m25\u001b[39m, \u001b[39m256.6\u001b[39m, width\u001b[39m=\u001b[39m\u001b[39m50\u001b[39m, height\u001b[39m=\u001b[39m\u001b[39m60\u001b[39m)\n\u001b[0;32m     <a href='vscode-notebook-cell:/d%3A/web/projects/hospital-project/static/images/card_genreator.ipynb#ch0000004?line=16'>17</a>\u001b[0m mycanvas\u001b[39m.\u001b[39msetStrokeColorRGB(\u001b[39m.5\u001b[39m,\u001b[39m.5\u001b[39m,\u001b[39m.5\u001b[39m)\n",
      "File \u001b[1;32m~\\AppData\\Local\\Programs\\Python\\Python310\\lib\\site-packages\\reportlab\\pdfgen\\canvas.py:980\u001b[0m, in \u001b[0;36mCanvas.drawImage\u001b[1;34m(self, image, x, y, width, height, mask, preserveAspectRatio, anchor, anchorAtXY, showBoundary)\u001b[0m\n\u001b[0;32m    <a href='file:///c%3A/Users/splen/AppData/Local/Programs/Python/Python310/lib/site-packages/reportlab/pdfgen/canvas.py?line=976'>977</a>\u001b[0m imgObj \u001b[39m=\u001b[39m \u001b[39mself\u001b[39m\u001b[39m.\u001b[39m_doc\u001b[39m.\u001b[39midToObject\u001b[39m.\u001b[39mget(regName, \u001b[39mNone\u001b[39;00m)\n\u001b[0;32m    <a href='file:///c%3A/Users/splen/AppData/Local/Programs/Python/Python310/lib/site-packages/reportlab/pdfgen/canvas.py?line=977'>978</a>\u001b[0m \u001b[39mif\u001b[39;00m \u001b[39mnot\u001b[39;00m imgObj:\n\u001b[0;32m    <a href='file:///c%3A/Users/splen/AppData/Local/Programs/Python/Python310/lib/site-packages/reportlab/pdfgen/canvas.py?line=978'>979</a>\u001b[0m     \u001b[39m#first time seen, create and register the PDFImageXobject\u001b[39;00m\n\u001b[1;32m--> <a href='file:///c%3A/Users/splen/AppData/Local/Programs/Python/Python310/lib/site-packages/reportlab/pdfgen/canvas.py?line=979'>980</a>\u001b[0m     imgObj \u001b[39m=\u001b[39m pdfdoc\u001b[39m.\u001b[39;49mPDFImageXObject(name, image, mask\u001b[39m=\u001b[39;49mmask)\n\u001b[0;32m    <a href='file:///c%3A/Users/splen/AppData/Local/Programs/Python/Python310/lib/site-packages/reportlab/pdfgen/canvas.py?line=980'>981</a>\u001b[0m     imgObj\u001b[39m.\u001b[39mname \u001b[39m=\u001b[39m name\n\u001b[0;32m    <a href='file:///c%3A/Users/splen/AppData/Local/Programs/Python/Python310/lib/site-packages/reportlab/pdfgen/canvas.py?line=981'>982</a>\u001b[0m     \u001b[39mself\u001b[39m\u001b[39m.\u001b[39m_setXObjects(imgObj)\n",
      "File \u001b[1;32m~\\AppData\\Local\\Programs\\Python\\Python310\\lib\\site-packages\\reportlab\\pdfbase\\pdfdoc.py:2079\u001b[0m, in \u001b[0;36mPDFImageXObject.__init__\u001b[1;34m(self, name, source, mask)\u001b[0m\n\u001b[0;32m   <a href='file:///c%3A/Users/splen/AppData/Local/Programs/Python/Python310/lib/site-packages/reportlab/pdfbase/pdfdoc.py?line=2076'>2077</a>\u001b[0m \u001b[39mimport\u001b[39;00m \u001b[39mos\u001b[39;00m\n\u001b[0;32m   <a href='file:///c%3A/Users/splen/AppData/Local/Programs/Python/Python310/lib/site-packages/reportlab/pdfbase/pdfdoc.py?line=2077'>2078</a>\u001b[0m ext \u001b[39m=\u001b[39m os\u001b[39m.\u001b[39mpath\u001b[39m.\u001b[39msplitext(source)[\u001b[39m1\u001b[39m]\u001b[39m.\u001b[39mlower()\n\u001b[1;32m-> <a href='file:///c%3A/Users/splen/AppData/Local/Programs/Python/Python310/lib/site-packages/reportlab/pdfbase/pdfdoc.py?line=2078'>2079</a>\u001b[0m src \u001b[39m=\u001b[39m open_for_read(source)\n\u001b[0;32m   <a href='file:///c%3A/Users/splen/AppData/Local/Programs/Python/Python310/lib/site-packages/reportlab/pdfbase/pdfdoc.py?line=2079'>2080</a>\u001b[0m \u001b[39mtry\u001b[39;00m:\n\u001b[0;32m   <a href='file:///c%3A/Users/splen/AppData/Local/Programs/Python/Python310/lib/site-packages/reportlab/pdfbase/pdfdoc.py?line=2080'>2081</a>\u001b[0m     \u001b[39mif\u001b[39;00m \u001b[39mnot\u001b[39;00m(ext \u001b[39min\u001b[39;00m (\u001b[39m'\u001b[39m\u001b[39m.jpg\u001b[39m\u001b[39m'\u001b[39m, \u001b[39m'\u001b[39m\u001b[39m.jpeg\u001b[39m\u001b[39m'\u001b[39m) \u001b[39mand\u001b[39;00m \u001b[39mself\u001b[39m\u001b[39m.\u001b[39mloadImageFromJPEG(src)):\n",
      "File \u001b[1;32m~\\AppData\\Local\\Programs\\Python\\Python310\\lib\\site-packages\\reportlab\\lib\\utils.py:548\u001b[0m, in \u001b[0;36mopen_for_read\u001b[1;34m(name, mode)\u001b[0m\n\u001b[0;32m    <a href='file:///c%3A/Users/splen/AppData/Local/Programs/Python/Python310/lib/site-packages/reportlab/lib/utils.py?line=545'>546</a>\u001b[0m             \u001b[39mraise\u001b[39;00m \u001b[39mIOError\u001b[39;00m(\u001b[39m'\u001b[39m\u001b[39mCannot open resource \u001b[39m\u001b[39m\"\u001b[39m\u001b[39m%s\u001b[39;00m\u001b[39m\"\u001b[39m\u001b[39m'\u001b[39m \u001b[39m%\u001b[39m name)\n\u001b[0;32m    <a href='file:///c%3A/Users/splen/AppData/Local/Programs/Python/Python310/lib/site-packages/reportlab/lib/utils.py?line=546'>547</a>\u001b[0m \u001b[39mglobals\u001b[39m()[\u001b[39m'\u001b[39m\u001b[39mopen_for_read\u001b[39m\u001b[39m'\u001b[39m] \u001b[39m=\u001b[39m open_for_read\n\u001b[1;32m--> <a href='file:///c%3A/Users/splen/AppData/Local/Programs/Python/Python310/lib/site-packages/reportlab/lib/utils.py?line=547'>548</a>\u001b[0m \u001b[39mreturn\u001b[39;00m open_for_read(name,mode)\n",
      "File \u001b[1;32m~\\AppData\\Local\\Programs\\Python\\Python310\\lib\\site-packages\\reportlab\\lib\\utils.py:546\u001b[0m, in \u001b[0;36mopen_for_read.<locals>.open_for_read\u001b[1;34m(name, mode)\u001b[0m\n\u001b[0;32m    <a href='file:///c%3A/Users/splen/AppData/Local/Programs/Python/Python310/lib/site-packages/reportlab/lib/utils.py?line=543'>544</a>\u001b[0m     \u001b[39mreturn\u001b[39;00m BytesIO((datareader \u001b[39mif\u001b[39;00m name[:\u001b[39m5\u001b[39m]\u001b[39m.\u001b[39mlower()\u001b[39m==\u001b[39m\u001b[39m'\u001b[39m\u001b[39mdata:\u001b[39m\u001b[39m'\u001b[39m \u001b[39melse\u001b[39;00m rlUrlRead)(name))\n\u001b[0;32m    <a href='file:///c%3A/Users/splen/AppData/Local/Programs/Python/Python310/lib/site-packages/reportlab/lib/utils.py?line=544'>545</a>\u001b[0m \u001b[39mexcept\u001b[39;00m:\n\u001b[1;32m--> <a href='file:///c%3A/Users/splen/AppData/Local/Programs/Python/Python310/lib/site-packages/reportlab/lib/utils.py?line=545'>546</a>\u001b[0m     \u001b[39mraise\u001b[39;00m \u001b[39mIOError\u001b[39;00m(\u001b[39m'\u001b[39m\u001b[39mCannot open resource \u001b[39m\u001b[39m\"\u001b[39m\u001b[39m%s\u001b[39;00m\u001b[39m\"\u001b[39m\u001b[39m'\u001b[39m \u001b[39m%\u001b[39m name)\n",
      "\u001b[1;31mOSError\u001b[0m: Cannot open resource \"mybarcode.png\""
     ]
    }
   ],
   "source": [
    "from reportlab.pdfgen import canvas\n",
    "from reportlab.lib.pagesizes import letter\n",
    "from PyPDF2 import PdfFileReader, PdfFileWriter\n",
    "from barcode import Code128\n",
    "from barcode.writer import ImageWriter\n",
    "\n",
    "import io\n",
    "\n",
    "\n",
    "packet = io.BytesIO()\n",
    "mycanvas = canvas.Canvas(packet, pagesize=letter)\n",
    "\n",
    "mycanvas.drawImage(\"mybarcode.png\",35, 210, width=100, height=30)\n",
    "\n",
    "\n",
    "mycanvas.drawImage(\"profile.jpg\",25, 256.6, width=50, height=60)\n",
    "mycanvas.setStrokeColorRGB(.5,.5,.5)\n",
    "mycanvas.rect(25, 256.8, 50.3, 60, fill=0)\n",
    "\n",
    "mycanvas.setFont(\"Times-Bold\",7)\n",
    "mycanvas.drawString(80, 310, 'Fayjul Islam')\n",
    "\n",
    "mycanvas.setFont(\"Helvetica\",5)\n",
    "# FATHER NAME\n",
    "mycanvas.drawString(98, 300, 'Mainul Islam') \n",
    "# lOCATION\n",
    "mycanvas.drawString(102, 284, 'Isa khan, Sonargaon,')\n",
    "mycanvas.drawString(102, 278, 'Dhaka.')\n",
    "# CONTACT NUMBER\n",
    "mycanvas.drawString(108, 292, '01746659494')\n",
    "\n",
    "# FAMILY MEMBER\n",
    "mycanvas.drawString(182, 299, '1. Myfather Name')\n",
    "mycanvas.drawString(182, 291, '2. Myfather Name')\n",
    "mycanvas.drawString(182, 283, '3. Myfather Name')\n",
    "mycanvas.drawString(182, 275, '4. Myfather Name')\n",
    "\n",
    "mycanvas.setFont(\"Times-Bold\", 5)\n",
    "mycanvas.drawString(80, 300, 'Father:')\n",
    "mycanvas.drawString(80, 292, 'Contact No:')\n",
    "mycanvas.drawString(80, 284, 'Address:')\n",
    "\n",
    "mycanvas.setFont(\"Helvetica\", 6)\n",
    "mycanvas.setFillColorRGB(0,0,1)\n",
    "mycanvas.drawString(45,326.5, '121312434312323')\n",
    "\n",
    "mycanvas.save()\n",
    "\n",
    "packet.seek(0)\n",
    "new_pdf = PdfFileReader(packet)\n",
    "\n",
    "pdfFile = open(\"cardmail.pdf\", \"rb\")\n",
    "existing_pdf =PdfFileReader(pdfFile)\n",
    "output = PdfFileWriter()\n",
    "\n",
    "page = existing_pdf.getPage(0)\n",
    "page.mergePage(new_pdf.getPage(0))\n",
    "output.addPage(page)\n",
    "\n",
    "\n",
    "outputStream = open(\"destination.pdf\", \"wb\")\n",
    "output.write(outputStream)\n",
    "\n",
    "pdfFile.close()\n",
    "outputStream.close()"
   ]
  },
  {
   "cell_type": "code",
   "execution_count": 3,
   "metadata": {},
   "outputs": [
    {
     "name": "stdout",
     "output_type": "stream",
     "text": [
      "<class 'str'>\n"
     ]
    }
   ],
   "source": [
    "bar_code = Code128(\"123232323223\", writer = ImageWriter())\n",
    "p = bar_code.save(\"mybarcode\", options={\"text_distance\": 2, \"font_size\": 0, \"module_height\": 10})\n",
    "\n",
    "print(type(p))"
   ]
  }
 ],
 "metadata": {
  "interpreter": {
   "hash": "3084e20c1921ff58344e217c3eea5b80925de7ff94f28f6ca82029f255266996"
  },
  "kernelspec": {
   "display_name": "Python 3.10.1 64-bit",
   "language": "python",
   "name": "python3"
  },
  "language_info": {
   "codemirror_mode": {
    "name": "ipython",
    "version": 3
   },
   "file_extension": ".py",
   "mimetype": "text/x-python",
   "name": "python",
   "nbconvert_exporter": "python",
   "pygments_lexer": "ipython3",
   "version": "3.10.1"
  },
  "orig_nbformat": 4
 },
 "nbformat": 4,
 "nbformat_minor": 2
}
